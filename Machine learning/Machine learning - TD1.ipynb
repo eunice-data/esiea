{
 "cells": [
  {
   "cell_type": "markdown",
   "metadata": {},
   "source": [
    "# Homework - Recommendations"
   ]
  },
  {
   "cell_type": "markdown",
   "metadata": {},
   "source": [
    "## Libraries"
   ]
  },
  {
   "cell_type": "code",
   "execution_count": 1,
   "metadata": {
    "collapsed": true
   },
   "outputs": [],
   "source": [
    "import matplotlib.pyplot as plt # To plot some data if you want to.\n",
    "\n",
    "import pandas as pd # Library to handle dataframes.\n",
    "import numpy as np  # Useful library for matrix manipulation."
   ]
  },
  {
   "cell_type": "markdown",
   "metadata": {},
   "source": [
    "## 0.2 - Load Dataset"
   ]
  },
  {
   "cell_type": "code",
   "execution_count": 2,
   "metadata": {
    "collapsed": true
   },
   "outputs": [],
   "source": [
    "# Import data from a csv into a dataframe.\n",
    "ratings = pd.read_csv(\"u.data\",\n",
    "                      delim_whitespace=True,\n",
    "                      header=None,\n",
    "                      names=[\"userId\", \"movieId\", \"rating\", \"timestamp\"])"
   ]
  },
  {
   "cell_type": "markdown",
   "metadata": {},
   "source": [
    "## Basic exploration"
   ]
  },
  {
   "cell_type": "code",
   "execution_count": 3,
   "metadata": {
    "scrolled": true
   },
   "outputs": [
    {
     "data": {
      "text/html": [
       "<div>\n",
       "<style>\n",
       "    .dataframe thead tr:only-child th {\n",
       "        text-align: right;\n",
       "    }\n",
       "\n",
       "    .dataframe thead th {\n",
       "        text-align: left;\n",
       "    }\n",
       "\n",
       "    .dataframe tbody tr th {\n",
       "        vertical-align: top;\n",
       "    }\n",
       "</style>\n",
       "<table border=\"1\" class=\"dataframe\">\n",
       "  <thead>\n",
       "    <tr style=\"text-align: right;\">\n",
       "      <th></th>\n",
       "      <th>userId</th>\n",
       "      <th>movieId</th>\n",
       "      <th>rating</th>\n",
       "      <th>timestamp</th>\n",
       "    </tr>\n",
       "  </thead>\n",
       "  <tbody>\n",
       "    <tr>\n",
       "      <th>0</th>\n",
       "      <td>196</td>\n",
       "      <td>242</td>\n",
       "      <td>3</td>\n",
       "      <td>881250949</td>\n",
       "    </tr>\n",
       "    <tr>\n",
       "      <th>1</th>\n",
       "      <td>186</td>\n",
       "      <td>302</td>\n",
       "      <td>3</td>\n",
       "      <td>891717742</td>\n",
       "    </tr>\n",
       "    <tr>\n",
       "      <th>2</th>\n",
       "      <td>22</td>\n",
       "      <td>377</td>\n",
       "      <td>1</td>\n",
       "      <td>878887116</td>\n",
       "    </tr>\n",
       "    <tr>\n",
       "      <th>3</th>\n",
       "      <td>244</td>\n",
       "      <td>51</td>\n",
       "      <td>2</td>\n",
       "      <td>880606923</td>\n",
       "    </tr>\n",
       "    <tr>\n",
       "      <th>4</th>\n",
       "      <td>166</td>\n",
       "      <td>346</td>\n",
       "      <td>1</td>\n",
       "      <td>886397596</td>\n",
       "    </tr>\n",
       "  </tbody>\n",
       "</table>\n",
       "</div>"
      ],
      "text/plain": [
       "   userId  movieId  rating  timestamp\n",
       "0     196      242       3  881250949\n",
       "1     186      302       3  891717742\n",
       "2      22      377       1  878887116\n",
       "3     244       51       2  880606923\n",
       "4     166      346       1  886397596"
      ]
     },
     "execution_count": 3,
     "metadata": {},
     "output_type": "execute_result"
    }
   ],
   "source": [
    "ratings.head() # Displays the first rows of the dataframe."
   ]
  },
  {
   "cell_type": "code",
   "execution_count": 4,
   "metadata": {},
   "outputs": [
    {
     "data": {
      "text/html": [
       "<div>\n",
       "<style>\n",
       "    .dataframe thead tr:only-child th {\n",
       "        text-align: right;\n",
       "    }\n",
       "\n",
       "    .dataframe thead th {\n",
       "        text-align: left;\n",
       "    }\n",
       "\n",
       "    .dataframe tbody tr th {\n",
       "        vertical-align: top;\n",
       "    }\n",
       "</style>\n",
       "<table border=\"1\" class=\"dataframe\">\n",
       "  <thead>\n",
       "    <tr style=\"text-align: right;\">\n",
       "      <th></th>\n",
       "      <th>userId</th>\n",
       "      <th>movieId</th>\n",
       "      <th>rating</th>\n",
       "      <th>timestamp</th>\n",
       "    </tr>\n",
       "  </thead>\n",
       "  <tbody>\n",
       "    <tr>\n",
       "      <th>count</th>\n",
       "      <td>100000.00000</td>\n",
       "      <td>100000.000000</td>\n",
       "      <td>100000.000000</td>\n",
       "      <td>1.000000e+05</td>\n",
       "    </tr>\n",
       "    <tr>\n",
       "      <th>mean</th>\n",
       "      <td>462.48475</td>\n",
       "      <td>425.530130</td>\n",
       "      <td>3.529860</td>\n",
       "      <td>8.835289e+08</td>\n",
       "    </tr>\n",
       "    <tr>\n",
       "      <th>std</th>\n",
       "      <td>266.61442</td>\n",
       "      <td>330.798356</td>\n",
       "      <td>1.125674</td>\n",
       "      <td>5.343856e+06</td>\n",
       "    </tr>\n",
       "    <tr>\n",
       "      <th>min</th>\n",
       "      <td>1.00000</td>\n",
       "      <td>1.000000</td>\n",
       "      <td>1.000000</td>\n",
       "      <td>8.747247e+08</td>\n",
       "    </tr>\n",
       "    <tr>\n",
       "      <th>25%</th>\n",
       "      <td>254.00000</td>\n",
       "      <td>175.000000</td>\n",
       "      <td>3.000000</td>\n",
       "      <td>8.794487e+08</td>\n",
       "    </tr>\n",
       "    <tr>\n",
       "      <th>50%</th>\n",
       "      <td>447.00000</td>\n",
       "      <td>322.000000</td>\n",
       "      <td>4.000000</td>\n",
       "      <td>8.828269e+08</td>\n",
       "    </tr>\n",
       "    <tr>\n",
       "      <th>75%</th>\n",
       "      <td>682.00000</td>\n",
       "      <td>631.000000</td>\n",
       "      <td>4.000000</td>\n",
       "      <td>8.882600e+08</td>\n",
       "    </tr>\n",
       "    <tr>\n",
       "      <th>max</th>\n",
       "      <td>943.00000</td>\n",
       "      <td>1682.000000</td>\n",
       "      <td>5.000000</td>\n",
       "      <td>8.932866e+08</td>\n",
       "    </tr>\n",
       "  </tbody>\n",
       "</table>\n",
       "</div>"
      ],
      "text/plain": [
       "             userId        movieId         rating     timestamp\n",
       "count  100000.00000  100000.000000  100000.000000  1.000000e+05\n",
       "mean      462.48475     425.530130       3.529860  8.835289e+08\n",
       "std       266.61442     330.798356       1.125674  5.343856e+06\n",
       "min         1.00000       1.000000       1.000000  8.747247e+08\n",
       "25%       254.00000     175.000000       3.000000  8.794487e+08\n",
       "50%       447.00000     322.000000       4.000000  8.828269e+08\n",
       "75%       682.00000     631.000000       4.000000  8.882600e+08\n",
       "max       943.00000    1682.000000       5.000000  8.932866e+08"
      ]
     },
     "execution_count": 4,
     "metadata": {},
     "output_type": "execute_result"
    }
   ],
   "source": [
    "ratings.describe() # Similar to summary() in R."
   ]
  },
  {
   "cell_type": "markdown",
   "metadata": {},
   "source": [
    "### Standardization"
   ]
  },
  {
   "cell_type": "code",
   "execution_count": 16,
   "metadata": {
    "scrolled": false
   },
   "outputs": [
    {
     "data": {
      "text/plain": [
       "0       -0.470705\n",
       "1       -0.470705\n",
       "2       -2.247419\n",
       "3       -1.359062\n",
       "4       -2.247419\n",
       "5        0.417652\n",
       "6       -1.359062\n",
       "7        1.306009\n",
       "8       -0.470705\n",
       "9       -0.470705\n",
       "10      -1.359062\n",
       "11       1.306009\n",
       "12       1.306009\n",
       "13      -0.470705\n",
       "14      -0.470705\n",
       "15      -0.470705\n",
       "16       1.306009\n",
       "17      -1.359062\n",
       "18       0.417652\n",
       "19      -1.359062\n",
       "20       0.417652\n",
       "21       0.417652\n",
       "22       0.417652\n",
       "23      -1.359062\n",
       "24       0.417652\n",
       "25      -1.359062\n",
       "26       1.306009\n",
       "27      -1.359062\n",
       "28       0.417652\n",
       "29       1.306009\n",
       "           ...   \n",
       "99970   -2.247419\n",
       "99971   -1.359062\n",
       "99972   -0.470705\n",
       "99973    0.417652\n",
       "99974   -0.470705\n",
       "99975   -0.470705\n",
       "99976   -1.359062\n",
       "99977   -0.470705\n",
       "99978    1.306009\n",
       "99979   -1.359062\n",
       "99980    0.417652\n",
       "99981   -0.470705\n",
       "99982   -2.247419\n",
       "99983   -0.470705\n",
       "99984   -1.359062\n",
       "99985    0.417652\n",
       "99986   -0.470705\n",
       "99987   -1.359062\n",
       "99988    0.417652\n",
       "99989    0.417652\n",
       "99990    0.417652\n",
       "99991    0.417652\n",
       "99992   -0.470705\n",
       "99993   -1.359062\n",
       "99994   -0.470705\n",
       "99995   -0.470705\n",
       "99996    1.306009\n",
       "99997   -2.247419\n",
       "99998   -1.359062\n",
       "99999   -0.470705\n",
       "Name: std_rating, Length: 100000, dtype: float64"
      ]
     },
     "execution_count": 16,
     "metadata": {},
     "output_type": "execute_result"
    }
   ],
   "source": [
    "# Standardize the \"rating\" column and put the results in a \"std_ratings\" column.\n",
    "ratings[\"std_rating\"] = (ratings[\"rating\"] - ratings[\"rating\"].mean()) / ratings[\"rating\"].std()\n",
    "\n",
    "ratings[\"std_rating\"]"
   ]
  },
  {
   "cell_type": "markdown",
   "metadata": {},
   "source": [
    "## 0.3 - Create a separate validation set"
   ]
  },
  {
   "cell_type": "code",
   "execution_count": 10,
   "metadata": {
    "collapsed": true
   },
   "outputs": [],
   "source": [
    "from numpy.random import RandomState"
   ]
  },
  {
   "cell_type": "code",
   "execution_count": 11,
   "metadata": {
    "collapsed": true
   },
   "outputs": [],
   "source": [
    "prng = RandomState(58)"
   ]
  },
  {
   "cell_type": "code",
   "execution_count": 12,
   "metadata": {},
   "outputs": [
    {
     "data": {
      "text/plain": [
       "array([ 0.36510558,  0.45120592,  0.49606035, ...,  0.35743007,\n",
       "        0.68356079,  0.84245802])"
      ]
     },
     "execution_count": 12,
     "metadata": {},
     "output_type": "execute_result"
    }
   ],
   "source": [
    "prng.rand(len(ratings))"
   ]
  },
  {
   "cell_type": "code",
   "execution_count": 13,
   "metadata": {},
   "outputs": [
    {
     "data": {
      "text/plain": [
       "(79948, 20052)"
      ]
     },
     "execution_count": 13,
     "metadata": {},
     "output_type": "execute_result"
    }
   ],
   "source": [
    "msk = prng.rand(len(ratings)) < 0.8\n",
    "trn = ratings[msk]\n",
    "val = ratings[~msk]\n",
    "len(trn), len(val)"
   ]
  },
  {
   "cell_type": "code",
   "execution_count": 14,
   "metadata": {},
   "outputs": [
    {
     "data": {
      "text/html": [
       "<div>\n",
       "<style>\n",
       "    .dataframe thead tr:only-child th {\n",
       "        text-align: right;\n",
       "    }\n",
       "\n",
       "    .dataframe thead th {\n",
       "        text-align: left;\n",
       "    }\n",
       "\n",
       "    .dataframe tbody tr th {\n",
       "        vertical-align: top;\n",
       "    }\n",
       "</style>\n",
       "<table border=\"1\" class=\"dataframe\">\n",
       "  <thead>\n",
       "    <tr style=\"text-align: right;\">\n",
       "      <th></th>\n",
       "      <th>userId</th>\n",
       "      <th>movieId</th>\n",
       "      <th>rating</th>\n",
       "      <th>timestamp</th>\n",
       "      <th>std_rating</th>\n",
       "    </tr>\n",
       "  </thead>\n",
       "  <tbody>\n",
       "    <tr>\n",
       "      <th>0</th>\n",
       "      <td>196</td>\n",
       "      <td>242</td>\n",
       "      <td>3</td>\n",
       "      <td>881250949</td>\n",
       "      <td>-0.470705</td>\n",
       "    </tr>\n",
       "    <tr>\n",
       "      <th>1</th>\n",
       "      <td>186</td>\n",
       "      <td>302</td>\n",
       "      <td>3</td>\n",
       "      <td>891717742</td>\n",
       "      <td>-0.470705</td>\n",
       "    </tr>\n",
       "    <tr>\n",
       "      <th>2</th>\n",
       "      <td>22</td>\n",
       "      <td>377</td>\n",
       "      <td>1</td>\n",
       "      <td>878887116</td>\n",
       "      <td>-2.247419</td>\n",
       "    </tr>\n",
       "    <tr>\n",
       "      <th>3</th>\n",
       "      <td>244</td>\n",
       "      <td>51</td>\n",
       "      <td>2</td>\n",
       "      <td>880606923</td>\n",
       "      <td>-1.359062</td>\n",
       "    </tr>\n",
       "    <tr>\n",
       "      <th>4</th>\n",
       "      <td>166</td>\n",
       "      <td>346</td>\n",
       "      <td>1</td>\n",
       "      <td>886397596</td>\n",
       "      <td>-2.247419</td>\n",
       "    </tr>\n",
       "  </tbody>\n",
       "</table>\n",
       "</div>"
      ],
      "text/plain": [
       "   userId  movieId  rating  timestamp  std_rating\n",
       "0     196      242       3  881250949   -0.470705\n",
       "1     186      302       3  891717742   -0.470705\n",
       "2      22      377       1  878887116   -2.247419\n",
       "3     244       51       2  880606923   -1.359062\n",
       "4     166      346       1  886397596   -2.247419"
      ]
     },
     "execution_count": 14,
     "metadata": {},
     "output_type": "execute_result"
    }
   ],
   "source": [
    "trn.head()"
   ]
  },
  {
   "cell_type": "markdown",
   "metadata": {
    "collapsed": true
   },
   "source": [
    "## User averages\n",
    "\n",
    "\"You should compute a numpy array (or python list) user_average, of size\n",
    "n_users+1, such that user_average[i] is the average rating given by user i. The value of\n",
    "user_average[0] does not matter.\""
   ]
  },
  {
   "cell_type": "code",
   "execution_count": 25,
   "metadata": {
    "collapsed": true
   },
   "outputs": [],
   "source": [
    "# Get series of the the \"std_rating\" and \"rating\" columns grouped by \"movieId\".\n",
    "std_ratings_user_grouped = ratings.groupby(\"userId\")[\"std_rating\"]\n",
    "ratings_user_grouped = ratings.groupby(\"userId\")[\"rating\"]\n",
    "\n",
    "# Aggregate them with the \"mean\" function, and sort them.\n",
    "std_user_mean_ratings = std_ratings_user_grouped.mean().sort_values(ascending=False)\n",
    "user_mean_ratings = ratings_user_grouped.mean().sort_values(ascending=False)"
   ]
  },
  {
   "cell_type": "code",
   "execution_count": 26,
   "metadata": {},
   "outputs": [
    {
     "data": {
      "text/plain": [
       "userId\n",
       "849    1.190136\n",
       "688    1.157950\n",
       "507    1.060945\n",
       "628    1.042792\n",
       "928    1.028398\n",
       "118    1.005719\n",
       "907    0.925285\n",
       "686    0.918135\n",
       "427    0.904816\n",
       "565    0.899903\n",
       "469    0.892820\n",
       "850    0.887959\n",
       "225    0.878282\n",
       "330    0.858809\n",
       "477    0.823758\n",
       "242    0.817413\n",
       "636    0.817413\n",
       "583    0.812477\n",
       "767    0.801807\n",
       "252    0.798377\n",
       "810    0.793495\n",
       "366    0.767611\n",
       "12     0.766027\n",
       "312    0.756264\n",
       "383    0.755478\n",
       "862    0.740691\n",
       "513    0.740691\n",
       "523    0.737461\n",
       "324    0.727231\n",
       "909    0.725160\n",
       "         ...   \n",
       "570   -0.753364\n",
       "21    -0.763515\n",
       "104   -0.766824\n",
       "578   -0.766824\n",
       "797   -0.778213\n",
       "933   -0.784527\n",
       "155   -0.793744\n",
       "617   -0.807951\n",
       "102   -0.812064\n",
       "824   -0.826048\n",
       "129   -0.826048\n",
       "660   -0.839532\n",
       "900   -0.865530\n",
       "161   -0.868934\n",
       "255   -0.877422\n",
       "656   -0.877868\n",
       "509   -0.901423\n",
       "637   -0.923425\n",
       "702   -0.957868\n",
       "302   -0.978337\n",
       "609   -1.010064\n",
       "626   -1.053689\n",
       "865   -1.103323\n",
       "206   -1.206375\n",
       "724   -1.212744\n",
       "774   -1.307505\n",
       "685   -1.314644\n",
       "445   -1.372223\n",
       "405   -1.506117\n",
       "181   -1.810388\n",
       "Name: std_rating, Length: 943, dtype: float64"
      ]
     },
     "execution_count": 26,
     "metadata": {},
     "output_type": "execute_result"
    }
   ],
   "source": [
    "std_user_mean_ratings"
   ]
  },
  {
   "cell_type": "code",
   "execution_count": 27,
   "metadata": {},
   "outputs": [
    {
     "data": {
      "text/plain": [
       "userId\n",
       "849    4.869565\n",
       "688    4.833333\n",
       "507    4.724138\n",
       "628    4.703704\n",
       "928    4.687500\n",
       "118    4.661972\n",
       "907    4.571429\n",
       "686    4.563380\n",
       "427    4.548387\n",
       "565    4.542857\n",
       "469    4.534884\n",
       "850    4.529412\n",
       "225    4.518519\n",
       "330    4.496599\n",
       "477    4.457143\n",
       "242    4.450000\n",
       "636    4.450000\n",
       "583    4.444444\n",
       "767    4.432432\n",
       "252    4.428571\n",
       "810    4.423077\n",
       "366    4.393939\n",
       "12     4.392157\n",
       "312    4.381166\n",
       "383    4.380282\n",
       "513    4.363636\n",
       "862    4.363636\n",
       "523    4.360000\n",
       "324    4.348485\n",
       "909    4.346154\n",
       "         ...   \n",
       "570    2.681818\n",
       "21     2.670391\n",
       "578    2.666667\n",
       "104    2.666667\n",
       "797    2.653846\n",
       "933    2.646739\n",
       "155    2.636364\n",
       "617    2.620370\n",
       "102    2.615741\n",
       "129    2.600000\n",
       "824    2.600000\n",
       "660    2.584821\n",
       "900    2.555556\n",
       "161    2.551724\n",
       "255    2.542169\n",
       "656    2.541667\n",
       "509    2.515152\n",
       "637    2.490385\n",
       "702    2.451613\n",
       "302    2.428571\n",
       "609    2.392857\n",
       "626    2.343750\n",
       "865    2.287879\n",
       "206    2.171875\n",
       "724    2.164706\n",
       "774    2.058036\n",
       "685    2.050000\n",
       "445    1.985185\n",
       "405    1.834464\n",
       "181    1.491954\n",
       "Name: rating, Length: 943, dtype: float64"
      ]
     },
     "execution_count": 27,
     "metadata": {},
     "output_type": "execute_result"
    }
   ],
   "source": [
    "user_mean_ratings"
   ]
  },
  {
   "cell_type": "markdown",
   "metadata": {},
   "source": [
    "From now on, results are computed based on the raw ratings data, not the standardized version. Be free to do as you please. "
   ]
  },
  {
   "cell_type": "markdown",
   "metadata": {},
   "source": [
    "## Movie averages\n",
    "\n",
    "You should compute a numpy array (or python list) movie_average, of size\n",
    "n_movies+1, such that movie_average[i] is the average rating for movie i. If movie i has\n",
    "not been rated, movie_average[i] should contain the global average, global_average"
   ]
  },
  {
   "cell_type": "code",
   "execution_count": 29,
   "metadata": {},
   "outputs": [
    {
     "data": {
      "text/plain": [
       "movieId\n",
       "1293    5.000000\n",
       "1467    5.000000\n",
       "1653    5.000000\n",
       "814     5.000000\n",
       "1122    5.000000\n",
       "1599    5.000000\n",
       "1201    5.000000\n",
       "1189    5.000000\n",
       "1500    5.000000\n",
       "1536    5.000000\n",
       "1449    4.625000\n",
       "1642    4.500000\n",
       "119     4.500000\n",
       "1398    4.500000\n",
       "1594    4.500000\n",
       "408     4.491071\n",
       "318     4.466443\n",
       "169     4.466102\n",
       "483     4.456790\n",
       "114     4.447761\n",
       "64      4.445230\n",
       "603     4.387560\n",
       "12      4.385768\n",
       "50      4.358491\n",
       "178     4.344000\n",
       "513     4.333333\n",
       "1639    4.333333\n",
       "1191    4.333333\n",
       "134     4.292929\n",
       "963     4.292683\n",
       "          ...   \n",
       "1576    1.000000\n",
       "1575    1.000000\n",
       "1574    1.000000\n",
       "1566    1.000000\n",
       "1572    1.000000\n",
       "1571    1.000000\n",
       "1570    1.000000\n",
       "1569    1.000000\n",
       "1586    1.000000\n",
       "1563    1.000000\n",
       "858     1.000000\n",
       "1562    1.000000\n",
       "852     1.000000\n",
       "1568    1.000000\n",
       "1626    1.000000\n",
       "830     1.000000\n",
       "1363    1.000000\n",
       "1621    1.000000\n",
       "1618    1.000000\n",
       "439     1.000000\n",
       "1546    1.000000\n",
       "1374    1.000000\n",
       "1548    1.000000\n",
       "1373    1.000000\n",
       "437     1.000000\n",
       "1601    1.000000\n",
       "1557    1.000000\n",
       "1559    1.000000\n",
       "1561    1.000000\n",
       "1364    1.000000\n",
       "Name: rating, Length: 1682, dtype: float64"
      ]
     },
     "execution_count": 29,
     "metadata": {},
     "output_type": "execute_result"
    }
   ],
   "source": [
    "ratings_movie_grouped = ratings.groupby(\"movieId\")[\"rating\"]\n",
    "\n",
    "movie_mean_ratings = ratings_movie_grouped.mean().sort_values(ascending=False)\n",
    "\n",
    "movie_mean_ratings"
   ]
  },
  {
   "cell_type": "markdown",
   "metadata": {},
   "source": [
    "## 0.7 Define RMSE and MAE\n",
    "\n",
    "### RMSE\n",
    "\n",
    "Define a function `evalrmse(pred, ground)`\n",
    " which, given predicted ratings **pred** and ground-truth ratings **ground** returns the root-mean-square error of the prediction\n",
    "\n",
    "Try to define this function in plain python, then using numpy, then using sklearn (which must be installed if necessary)"
   ]
  },
  {
   "cell_type": "markdown",
   "metadata": {},
   "source": [
    "### [RMSE] Classic implementation"
   ]
  },
  {
   "cell_type": "code",
   "execution_count": 72,
   "metadata": {
    "collapsed": true
   },
   "outputs": [],
   "source": [
    "def evalrmse_classic(pred, grnd):\n",
    "    \"\"\"\n",
    "    evalrmse takes a prediction list and a ground-truth list,\n",
    "    computes and returns the root-mean square error of the prediction.\n",
    "    \n",
    "    Args:\n",
    "        pred (list): List containing the predictions.\n",
    "        grnd (list): List containing the ground-truth results.\n",
    "\n",
    "    Returns:\n",
    "        rmse (list): The root-mean square error of the prediction.\n",
    "    \"\"\"\n",
    "    square_sum = 0\n",
    "    n = len(grnd)\n",
    "    \n",
    "    for i in range(n):\n",
    "        square_sum += (pred[i] - grnd[i]) ** 2\n",
    "    \n",
    "    return np.sqrt(square_sum / n)"
   ]
  },
  {
   "cell_type": "code",
   "execution_count": 73,
   "metadata": {},
   "outputs": [
    {
     "data": {
      "text/plain": [
       "0.5"
      ]
     },
     "execution_count": 73,
     "metadata": {},
     "output_type": "execute_result"
    }
   ],
   "source": [
    "A = [1, 2, 3, 4]\n",
    "B = [1, 2, 3, 3]\n",
    "\n",
    "evalrmse_classic(A, B)"
   ]
  },
  {
   "cell_type": "markdown",
   "metadata": {},
   "source": [
    "### [RMSE] Numpy implementation"
   ]
  },
  {
   "cell_type": "code",
   "execution_count": 74,
   "metadata": {
    "collapsed": true
   },
   "outputs": [],
   "source": [
    "# Same implementation but using numpy and as a lambda function, because \"fun\".\n",
    "evalrmse_np = lambda pred, grnd: np.sqrt(((pred - grnd) ** 2).mean())"
   ]
  },
  {
   "cell_type": "code",
   "execution_count": 75,
   "metadata": {},
   "outputs": [
    {
     "data": {
      "text/plain": [
       "0.5"
      ]
     },
     "execution_count": 75,
     "metadata": {},
     "output_type": "execute_result"
    }
   ],
   "source": [
    "A = np.array([1, 2, 3, 4])\n",
    "B = np.array([1, 2, 3, 3])\n",
    "\n",
    "evalrmse_np(A, B)"
   ]
  },
  {
   "cell_type": "markdown",
   "metadata": {},
   "source": [
    "### [RMSE] Sklearn implementation"
   ]
  },
  {
   "cell_type": "code",
   "execution_count": 78,
   "metadata": {
    "collapsed": true
   },
   "outputs": [],
   "source": [
    "from sklearn.metrics import mean_squared_error\n",
    "\n",
    "evalrmse_sklearn = lambda pred, grnd : np.sqrt(mean_squared_error(grnd, pred))"
   ]
  },
  {
   "cell_type": "code",
   "execution_count": 79,
   "metadata": {},
   "outputs": [
    {
     "data": {
      "text/plain": [
       "0.5"
      ]
     },
     "execution_count": 79,
     "metadata": {},
     "output_type": "execute_result"
    }
   ],
   "source": [
    "evalrmse_sklearn(A, B)"
   ]
  },
  {
   "cell_type": "markdown",
   "metadata": {
    "collapsed": true
   },
   "source": [
    "### MAE\n",
    "\n",
    "Same question for the mean absolute error."
   ]
  },
  {
   "cell_type": "markdown",
   "metadata": {},
   "source": [
    "### [MAE] Classic implementation"
   ]
  },
  {
   "cell_type": "code",
   "execution_count": 82,
   "metadata": {
    "collapsed": true
   },
   "outputs": [],
   "source": [
    "def evalmae_classic(pred, grnd):\n",
    "    \"\"\"\n",
    "    evalmae takes a prediction list and a ground-truth list,\n",
    "    computes and returns the mean absolute error of the prediction.\n",
    "    \n",
    "    Args:\n",
    "        pred (list): List containing the predictions.\n",
    "        grnd (list): List containing the ground-truth results.\n",
    "\n",
    "    Returns:\n",
    "        mae (list): The mean absolute error of the prediction.\n",
    "    \"\"\"\n",
    "    square_sum = 0\n",
    "    n = len(grnd)\n",
    "    \n",
    "    for i in range(n):\n",
    "        square_sum += abs(pred[i] - grnd[i])\n",
    "    \n",
    "    return square_sum / n"
   ]
  },
  {
   "cell_type": "code",
   "execution_count": 84,
   "metadata": {},
   "outputs": [
    {
     "data": {
      "text/plain": [
       "0.25"
      ]
     },
     "execution_count": 84,
     "metadata": {},
     "output_type": "execute_result"
    }
   ],
   "source": [
    "A = [1, 2, 3, 4]\n",
    "B = [1, 2, 3, 3]\n",
    "\n",
    "evalmae_classic(A, B)"
   ]
  },
  {
   "cell_type": "markdown",
   "metadata": {},
   "source": [
    "### [MAE] Numpy implementation"
   ]
  },
  {
   "cell_type": "code",
   "execution_count": 87,
   "metadata": {
    "collapsed": true
   },
   "outputs": [],
   "source": [
    "evalmae_np = lambda pred, grnd: abs((pred - grnd)).mean()"
   ]
  },
  {
   "cell_type": "code",
   "execution_count": 88,
   "metadata": {},
   "outputs": [
    {
     "data": {
      "text/plain": [
       "0.25"
      ]
     },
     "execution_count": 88,
     "metadata": {},
     "output_type": "execute_result"
    }
   ],
   "source": [
    "A = np.array([1, 2, 3, 4])\n",
    "B = np.array([1, 2, 3, 3])\n",
    "\n",
    "evalmae_np(A, B)"
   ]
  },
  {
   "cell_type": "markdown",
   "metadata": {},
   "source": [
    "### [MAE] Sklearn implementation"
   ]
  },
  {
   "cell_type": "code",
   "execution_count": 97,
   "metadata": {
    "collapsed": true
   },
   "outputs": [],
   "source": [
    "from sklearn.metrics import mean_absolute_error\n",
    "\n",
    "evalmae_sklearn = lambda pred, grnd : mean_absolute_error(grnd, pred)"
   ]
  },
  {
   "cell_type": "code",
   "execution_count": 98,
   "metadata": {},
   "outputs": [
    {
     "data": {
      "text/plain": [
       "0.25"
      ]
     },
     "execution_count": 98,
     "metadata": {},
     "output_type": "execute_result"
    }
   ],
   "source": [
    "evalmae_sklearn(A, B)"
   ]
  },
  {
   "cell_type": "code",
   "execution_count": null,
   "metadata": {
    "collapsed": true
   },
   "outputs": [],
   "source": []
  }
 ],
 "metadata": {
  "kernelspec": {
   "display_name": "Python 3",
   "language": "python",
   "name": "python3"
  },
  "language_info": {
   "codemirror_mode": {
    "name": "ipython",
    "version": 3
   },
   "file_extension": ".py",
   "mimetype": "text/x-python",
   "name": "python",
   "nbconvert_exporter": "python",
   "pygments_lexer": "ipython3",
   "version": "3.6.2"
  }
 },
 "nbformat": 4,
 "nbformat_minor": 2
}
