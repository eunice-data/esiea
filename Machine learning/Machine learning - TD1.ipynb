{
 "cells": [
  {
   "cell_type": "markdown",
   "metadata": {},
   "source": [
    "# Homework - Recommendations"
   ]
  },
  {
   "cell_type": "markdown",
   "metadata": {},
   "source": [
    "## Libraries"
   ]
  },
  {
   "cell_type": "code",
   "execution_count": 1,
   "metadata": {
    "collapsed": true
   },
   "outputs": [],
   "source": [
    "import matplotlib.pyplot as plt # To plot some data if you want to.\n",
    "\n",
    "import pandas as pd # Library to handle dataframes.\n",
    "import numpy as np  # Useful library for matrix manipulation."
   ]
  },
  {
   "cell_type": "markdown",
   "metadata": {},
   "source": [
    "## 0.2 - Load Dataset"
   ]
  },
  {
   "cell_type": "code",
   "execution_count": 2,
   "metadata": {
    "collapsed": true
   },
   "outputs": [],
   "source": [
    "# Import data from a csv into a dataframe.\n",
    "ratings = pd.read_csv(\"u.data\",\n",
    "                      delim_whitespace=True,\n",
    "                      header=None,\n",
    "                      names=[\"userID\", \"movieID\", \"rating\", \"timestamp\"])"
   ]
  },
  {
   "cell_type": "markdown",
   "metadata": {},
   "source": [
    "## Basic exploration"
   ]
  },
  {
   "cell_type": "code",
   "execution_count": 3,
   "metadata": {
    "scrolled": true
   },
   "outputs": [
    {
     "data": {
      "text/html": [
       "<div>\n",
       "<style>\n",
       "    .dataframe thead tr:only-child th {\n",
       "        text-align: right;\n",
       "    }\n",
       "\n",
       "    .dataframe thead th {\n",
       "        text-align: left;\n",
       "    }\n",
       "\n",
       "    .dataframe tbody tr th {\n",
       "        vertical-align: top;\n",
       "    }\n",
       "</style>\n",
       "<table border=\"1\" class=\"dataframe\">\n",
       "  <thead>\n",
       "    <tr style=\"text-align: right;\">\n",
       "      <th></th>\n",
       "      <th>userID</th>\n",
       "      <th>movieID</th>\n",
       "      <th>rating</th>\n",
       "      <th>timestamp</th>\n",
       "    </tr>\n",
       "  </thead>\n",
       "  <tbody>\n",
       "    <tr>\n",
       "      <th>0</th>\n",
       "      <td>196</td>\n",
       "      <td>242</td>\n",
       "      <td>3</td>\n",
       "      <td>881250949</td>\n",
       "    </tr>\n",
       "    <tr>\n",
       "      <th>1</th>\n",
       "      <td>186</td>\n",
       "      <td>302</td>\n",
       "      <td>3</td>\n",
       "      <td>891717742</td>\n",
       "    </tr>\n",
       "    <tr>\n",
       "      <th>2</th>\n",
       "      <td>22</td>\n",
       "      <td>377</td>\n",
       "      <td>1</td>\n",
       "      <td>878887116</td>\n",
       "    </tr>\n",
       "    <tr>\n",
       "      <th>3</th>\n",
       "      <td>244</td>\n",
       "      <td>51</td>\n",
       "      <td>2</td>\n",
       "      <td>880606923</td>\n",
       "    </tr>\n",
       "    <tr>\n",
       "      <th>4</th>\n",
       "      <td>166</td>\n",
       "      <td>346</td>\n",
       "      <td>1</td>\n",
       "      <td>886397596</td>\n",
       "    </tr>\n",
       "  </tbody>\n",
       "</table>\n",
       "</div>"
      ],
      "text/plain": [
       "   userID  movieID  rating  timestamp\n",
       "0     196      242       3  881250949\n",
       "1     186      302       3  891717742\n",
       "2      22      377       1  878887116\n",
       "3     244       51       2  880606923\n",
       "4     166      346       1  886397596"
      ]
     },
     "execution_count": 3,
     "metadata": {},
     "output_type": "execute_result"
    }
   ],
   "source": [
    "ratings.head() # Displays the first rows of the dataframe."
   ]
  },
  {
   "cell_type": "code",
   "execution_count": 4,
   "metadata": {},
   "outputs": [
    {
     "data": {
      "text/html": [
       "<div>\n",
       "<style>\n",
       "    .dataframe thead tr:only-child th {\n",
       "        text-align: right;\n",
       "    }\n",
       "\n",
       "    .dataframe thead th {\n",
       "        text-align: left;\n",
       "    }\n",
       "\n",
       "    .dataframe tbody tr th {\n",
       "        vertical-align: top;\n",
       "    }\n",
       "</style>\n",
       "<table border=\"1\" class=\"dataframe\">\n",
       "  <thead>\n",
       "    <tr style=\"text-align: right;\">\n",
       "      <th></th>\n",
       "      <th>userID</th>\n",
       "      <th>movieID</th>\n",
       "      <th>rating</th>\n",
       "      <th>timestamp</th>\n",
       "    </tr>\n",
       "  </thead>\n",
       "  <tbody>\n",
       "    <tr>\n",
       "      <th>count</th>\n",
       "      <td>100000.00000</td>\n",
       "      <td>100000.000000</td>\n",
       "      <td>100000.000000</td>\n",
       "      <td>1.000000e+05</td>\n",
       "    </tr>\n",
       "    <tr>\n",
       "      <th>mean</th>\n",
       "      <td>462.48475</td>\n",
       "      <td>425.530130</td>\n",
       "      <td>3.529860</td>\n",
       "      <td>8.835289e+08</td>\n",
       "    </tr>\n",
       "    <tr>\n",
       "      <th>std</th>\n",
       "      <td>266.61442</td>\n",
       "      <td>330.798356</td>\n",
       "      <td>1.125674</td>\n",
       "      <td>5.343856e+06</td>\n",
       "    </tr>\n",
       "    <tr>\n",
       "      <th>min</th>\n",
       "      <td>1.00000</td>\n",
       "      <td>1.000000</td>\n",
       "      <td>1.000000</td>\n",
       "      <td>8.747247e+08</td>\n",
       "    </tr>\n",
       "    <tr>\n",
       "      <th>25%</th>\n",
       "      <td>254.00000</td>\n",
       "      <td>175.000000</td>\n",
       "      <td>3.000000</td>\n",
       "      <td>8.794487e+08</td>\n",
       "    </tr>\n",
       "    <tr>\n",
       "      <th>50%</th>\n",
       "      <td>447.00000</td>\n",
       "      <td>322.000000</td>\n",
       "      <td>4.000000</td>\n",
       "      <td>8.828269e+08</td>\n",
       "    </tr>\n",
       "    <tr>\n",
       "      <th>75%</th>\n",
       "      <td>682.00000</td>\n",
       "      <td>631.000000</td>\n",
       "      <td>4.000000</td>\n",
       "      <td>8.882600e+08</td>\n",
       "    </tr>\n",
       "    <tr>\n",
       "      <th>max</th>\n",
       "      <td>943.00000</td>\n",
       "      <td>1682.000000</td>\n",
       "      <td>5.000000</td>\n",
       "      <td>8.932866e+08</td>\n",
       "    </tr>\n",
       "  </tbody>\n",
       "</table>\n",
       "</div>"
      ],
      "text/plain": [
       "             userID        movieID         rating     timestamp\n",
       "count  100000.00000  100000.000000  100000.000000  1.000000e+05\n",
       "mean      462.48475     425.530130       3.529860  8.835289e+08\n",
       "std       266.61442     330.798356       1.125674  5.343856e+06\n",
       "min         1.00000       1.000000       1.000000  8.747247e+08\n",
       "25%       254.00000     175.000000       3.000000  8.794487e+08\n",
       "50%       447.00000     322.000000       4.000000  8.828269e+08\n",
       "75%       682.00000     631.000000       4.000000  8.882600e+08\n",
       "max       943.00000    1682.000000       5.000000  8.932866e+08"
      ]
     },
     "execution_count": 4,
     "metadata": {},
     "output_type": "execute_result"
    }
   ],
   "source": [
    "ratings.describe() # Similar to summary() in R."
   ]
  },
  {
   "cell_type": "markdown",
   "metadata": {},
   "source": [
    "### Standardization"
   ]
  },
  {
   "cell_type": "code",
   "execution_count": 5,
   "metadata": {
    "scrolled": true
   },
   "outputs": [
    {
     "data": {
      "text/plain": [
       "0       -0.470705\n",
       "1       -0.470705\n",
       "2       -2.247419\n",
       "3       -1.359062\n",
       "4       -2.247419\n",
       "5        0.417652\n",
       "6       -1.359062\n",
       "7        1.306009\n",
       "8       -0.470705\n",
       "9       -0.470705\n",
       "10      -1.359062\n",
       "11       1.306009\n",
       "12       1.306009\n",
       "13      -0.470705\n",
       "14      -0.470705\n",
       "15      -0.470705\n",
       "16       1.306009\n",
       "17      -1.359062\n",
       "18       0.417652\n",
       "19      -1.359062\n",
       "20       0.417652\n",
       "21       0.417652\n",
       "22       0.417652\n",
       "23      -1.359062\n",
       "24       0.417652\n",
       "25      -1.359062\n",
       "26       1.306009\n",
       "27      -1.359062\n",
       "28       0.417652\n",
       "29       1.306009\n",
       "           ...   \n",
       "99970   -2.247419\n",
       "99971   -1.359062\n",
       "99972   -0.470705\n",
       "99973    0.417652\n",
       "99974   -0.470705\n",
       "99975   -0.470705\n",
       "99976   -1.359062\n",
       "99977   -0.470705\n",
       "99978    1.306009\n",
       "99979   -1.359062\n",
       "99980    0.417652\n",
       "99981   -0.470705\n",
       "99982   -2.247419\n",
       "99983   -0.470705\n",
       "99984   -1.359062\n",
       "99985    0.417652\n",
       "99986   -0.470705\n",
       "99987   -1.359062\n",
       "99988    0.417652\n",
       "99989    0.417652\n",
       "99990    0.417652\n",
       "99991    0.417652\n",
       "99992   -0.470705\n",
       "99993   -1.359062\n",
       "99994   -0.470705\n",
       "99995   -0.470705\n",
       "99996    1.306009\n",
       "99997   -2.247419\n",
       "99998   -1.359062\n",
       "99999   -0.470705\n",
       "Name: std_rating, Length: 100000, dtype: float64"
      ]
     },
     "execution_count": 5,
     "metadata": {},
     "output_type": "execute_result"
    }
   ],
   "source": [
    "# Standardize the \"rating\" column and put the results in a \"std_ratings\" column.\n",
    "# Not mandatory.\n",
    "ratings[\"std_rating\"] = (ratings[\"rating\"] - ratings[\"rating\"].mean()) / ratings[\"rating\"].std()\n",
    "\n",
    "ratings[\"std_rating\"]"
   ]
  },
  {
   "cell_type": "markdown",
   "metadata": {},
   "source": [
    "## 0.3 - Create a separate validation set"
   ]
  },
  {
   "cell_type": "code",
   "execution_count": 6,
   "metadata": {
    "collapsed": true
   },
   "outputs": [],
   "source": [
    "from numpy.random import RandomState"
   ]
  },
  {
   "cell_type": "code",
   "execution_count": 7,
   "metadata": {
    "collapsed": true
   },
   "outputs": [],
   "source": [
    "prng = RandomState(58)"
   ]
  },
  {
   "cell_type": "code",
   "execution_count": 8,
   "metadata": {},
   "outputs": [
    {
     "data": {
      "text/plain": [
       "array([ 0.36510558,  0.45120592,  0.49606035, ...,  0.35743007,\n",
       "        0.68356079,  0.84245802])"
      ]
     },
     "execution_count": 8,
     "metadata": {},
     "output_type": "execute_result"
    }
   ],
   "source": [
    "prng.rand(len(ratings))"
   ]
  },
  {
   "cell_type": "code",
   "execution_count": 9,
   "metadata": {},
   "outputs": [
    {
     "data": {
      "text/plain": [
       "(79948, 20052)"
      ]
     },
     "execution_count": 9,
     "metadata": {},
     "output_type": "execute_result"
    }
   ],
   "source": [
    "msk = prng.rand(len(ratings)) < 0.8\n",
    "trn = ratings[msk]\n",
    "val = ratings[~msk]\n",
    "len(trn), len(val)"
   ]
  },
  {
   "cell_type": "code",
   "execution_count": 10,
   "metadata": {},
   "outputs": [
    {
     "data": {
      "text/html": [
       "<div>\n",
       "<style>\n",
       "    .dataframe thead tr:only-child th {\n",
       "        text-align: right;\n",
       "    }\n",
       "\n",
       "    .dataframe thead th {\n",
       "        text-align: left;\n",
       "    }\n",
       "\n",
       "    .dataframe tbody tr th {\n",
       "        vertical-align: top;\n",
       "    }\n",
       "</style>\n",
       "<table border=\"1\" class=\"dataframe\">\n",
       "  <thead>\n",
       "    <tr style=\"text-align: right;\">\n",
       "      <th></th>\n",
       "      <th>userID</th>\n",
       "      <th>movieID</th>\n",
       "      <th>rating</th>\n",
       "      <th>timestamp</th>\n",
       "      <th>std_rating</th>\n",
       "    </tr>\n",
       "  </thead>\n",
       "  <tbody>\n",
       "    <tr>\n",
       "      <th>0</th>\n",
       "      <td>196</td>\n",
       "      <td>242</td>\n",
       "      <td>3</td>\n",
       "      <td>881250949</td>\n",
       "      <td>-0.470705</td>\n",
       "    </tr>\n",
       "    <tr>\n",
       "      <th>1</th>\n",
       "      <td>186</td>\n",
       "      <td>302</td>\n",
       "      <td>3</td>\n",
       "      <td>891717742</td>\n",
       "      <td>-0.470705</td>\n",
       "    </tr>\n",
       "    <tr>\n",
       "      <th>2</th>\n",
       "      <td>22</td>\n",
       "      <td>377</td>\n",
       "      <td>1</td>\n",
       "      <td>878887116</td>\n",
       "      <td>-2.247419</td>\n",
       "    </tr>\n",
       "    <tr>\n",
       "      <th>3</th>\n",
       "      <td>244</td>\n",
       "      <td>51</td>\n",
       "      <td>2</td>\n",
       "      <td>880606923</td>\n",
       "      <td>-1.359062</td>\n",
       "    </tr>\n",
       "    <tr>\n",
       "      <th>4</th>\n",
       "      <td>166</td>\n",
       "      <td>346</td>\n",
       "      <td>1</td>\n",
       "      <td>886397596</td>\n",
       "      <td>-2.247419</td>\n",
       "    </tr>\n",
       "  </tbody>\n",
       "</table>\n",
       "</div>"
      ],
      "text/plain": [
       "   userID  movieID  rating  timestamp  std_rating\n",
       "0     196      242       3  881250949   -0.470705\n",
       "1     186      302       3  891717742   -0.470705\n",
       "2      22      377       1  878887116   -2.247419\n",
       "3     244       51       2  880606923   -1.359062\n",
       "4     166      346       1  886397596   -2.247419"
      ]
     },
     "execution_count": 10,
     "metadata": {},
     "output_type": "execute_result"
    }
   ],
   "source": [
    "trn.head()"
   ]
  },
  {
   "cell_type": "markdown",
   "metadata": {
    "collapsed": true
   },
   "source": [
    "## User averages\n",
    "\n",
    "\"You should compute a numpy array (or python list) user_average, of size\n",
    "n_users+1, such that user_average[i] is the average rating given by user i. The value of\n",
    "user_average[0] does not matter.\""
   ]
  },
  {
   "cell_type": "code",
   "execution_count": 11,
   "metadata": {
    "collapsed": true
   },
   "outputs": [],
   "source": [
    "# Get series of the the \"std_rating\" and \"rating\" columns grouped by \"movieId\".\n",
    "std_ratings_user_grouped = ratings.groupby(\"userID\")[\"std_rating\"]\n",
    "ratings_user_grouped = ratings.groupby(\"userID\")[\"rating\"]\n",
    "\n",
    "# Aggregate them with the \"mean\" function, and sort them.\n",
    "std_user_mean_ratings = std_ratings_user_grouped.mean().sort_values(ascending=False)\n",
    "user_mean_ratings = ratings_user_grouped.mean().sort_values(ascending=False)"
   ]
  },
  {
   "cell_type": "code",
   "execution_count": 12,
   "metadata": {
    "scrolled": true
   },
   "outputs": [
    {
     "data": {
      "text/plain": [
       "userID\n",
       "849    1.190136\n",
       "688    1.157950\n",
       "507    1.060945\n",
       "628    1.042792\n",
       "928    1.028398\n",
       "118    1.005719\n",
       "907    0.925285\n",
       "686    0.918135\n",
       "427    0.904816\n",
       "565    0.899903\n",
       "469    0.892820\n",
       "850    0.887959\n",
       "225    0.878282\n",
       "330    0.858809\n",
       "477    0.823758\n",
       "242    0.817413\n",
       "636    0.817413\n",
       "583    0.812477\n",
       "767    0.801807\n",
       "252    0.798377\n",
       "810    0.793495\n",
       "366    0.767611\n",
       "12     0.766027\n",
       "312    0.756264\n",
       "383    0.755478\n",
       "862    0.740691\n",
       "513    0.740691\n",
       "523    0.737461\n",
       "324    0.727231\n",
       "909    0.725160\n",
       "         ...   \n",
       "570   -0.753364\n",
       "21    -0.763515\n",
       "104   -0.766824\n",
       "578   -0.766824\n",
       "797   -0.778213\n",
       "933   -0.784527\n",
       "155   -0.793744\n",
       "617   -0.807951\n",
       "102   -0.812064\n",
       "824   -0.826048\n",
       "129   -0.826048\n",
       "660   -0.839532\n",
       "900   -0.865530\n",
       "161   -0.868934\n",
       "255   -0.877422\n",
       "656   -0.877868\n",
       "509   -0.901423\n",
       "637   -0.923425\n",
       "702   -0.957868\n",
       "302   -0.978337\n",
       "609   -1.010064\n",
       "626   -1.053689\n",
       "865   -1.103323\n",
       "206   -1.206375\n",
       "724   -1.212744\n",
       "774   -1.307505\n",
       "685   -1.314644\n",
       "445   -1.372223\n",
       "405   -1.506117\n",
       "181   -1.810388\n",
       "Name: std_rating, Length: 943, dtype: float64"
      ]
     },
     "execution_count": 12,
     "metadata": {},
     "output_type": "execute_result"
    }
   ],
   "source": [
    "std_user_mean_ratings"
   ]
  },
  {
   "cell_type": "code",
   "execution_count": 13,
   "metadata": {
    "scrolled": true
   },
   "outputs": [
    {
     "data": {
      "text/plain": [
       "userID\n",
       "849    4.869565\n",
       "688    4.833333\n",
       "507    4.724138\n",
       "628    4.703704\n",
       "928    4.687500\n",
       "118    4.661972\n",
       "907    4.571429\n",
       "686    4.563380\n",
       "427    4.548387\n",
       "565    4.542857\n",
       "469    4.534884\n",
       "850    4.529412\n",
       "225    4.518519\n",
       "330    4.496599\n",
       "477    4.457143\n",
       "242    4.450000\n",
       "636    4.450000\n",
       "583    4.444444\n",
       "767    4.432432\n",
       "252    4.428571\n",
       "810    4.423077\n",
       "366    4.393939\n",
       "12     4.392157\n",
       "312    4.381166\n",
       "383    4.380282\n",
       "513    4.363636\n",
       "862    4.363636\n",
       "523    4.360000\n",
       "324    4.348485\n",
       "909    4.346154\n",
       "         ...   \n",
       "570    2.681818\n",
       "21     2.670391\n",
       "578    2.666667\n",
       "104    2.666667\n",
       "797    2.653846\n",
       "933    2.646739\n",
       "155    2.636364\n",
       "617    2.620370\n",
       "102    2.615741\n",
       "129    2.600000\n",
       "824    2.600000\n",
       "660    2.584821\n",
       "900    2.555556\n",
       "161    2.551724\n",
       "255    2.542169\n",
       "656    2.541667\n",
       "509    2.515152\n",
       "637    2.490385\n",
       "702    2.451613\n",
       "302    2.428571\n",
       "609    2.392857\n",
       "626    2.343750\n",
       "865    2.287879\n",
       "206    2.171875\n",
       "724    2.164706\n",
       "774    2.058036\n",
       "685    2.050000\n",
       "445    1.985185\n",
       "405    1.834464\n",
       "181    1.491954\n",
       "Name: rating, Length: 943, dtype: float64"
      ]
     },
     "execution_count": 13,
     "metadata": {},
     "output_type": "execute_result"
    }
   ],
   "source": [
    "user_mean_ratings"
   ]
  },
  {
   "cell_type": "markdown",
   "metadata": {},
   "source": [
    "From now on, results are computed based on the raw ratings data, not the standardized version. Be free to do as you please. "
   ]
  },
  {
   "cell_type": "markdown",
   "metadata": {},
   "source": [
    "## Movie averages\n",
    "\n",
    "You should compute a numpy array (or python list) movie_average, of size\n",
    "n_movies+1, such that movie_average[i] is the average rating for movie i. If movie i has\n",
    "not been rated, movie_average[i] should contain the global average, global_average"
   ]
  },
  {
   "cell_type": "code",
   "execution_count": 14,
   "metadata": {
    "scrolled": true
   },
   "outputs": [
    {
     "data": {
      "text/plain": [
       "movieID\n",
       "1293    5.000000\n",
       "1467    5.000000\n",
       "1653    5.000000\n",
       "814     5.000000\n",
       "1122    5.000000\n",
       "1599    5.000000\n",
       "1201    5.000000\n",
       "1189    5.000000\n",
       "1500    5.000000\n",
       "1536    5.000000\n",
       "1449    4.625000\n",
       "1642    4.500000\n",
       "119     4.500000\n",
       "1398    4.500000\n",
       "1594    4.500000\n",
       "408     4.491071\n",
       "318     4.466443\n",
       "169     4.466102\n",
       "483     4.456790\n",
       "114     4.447761\n",
       "64      4.445230\n",
       "603     4.387560\n",
       "12      4.385768\n",
       "50      4.358491\n",
       "178     4.344000\n",
       "513     4.333333\n",
       "1639    4.333333\n",
       "1191    4.333333\n",
       "134     4.292929\n",
       "963     4.292683\n",
       "          ...   \n",
       "1576    1.000000\n",
       "1575    1.000000\n",
       "1574    1.000000\n",
       "1566    1.000000\n",
       "1572    1.000000\n",
       "1571    1.000000\n",
       "1570    1.000000\n",
       "1569    1.000000\n",
       "1586    1.000000\n",
       "1563    1.000000\n",
       "858     1.000000\n",
       "1562    1.000000\n",
       "852     1.000000\n",
       "1568    1.000000\n",
       "1626    1.000000\n",
       "830     1.000000\n",
       "1363    1.000000\n",
       "1621    1.000000\n",
       "1618    1.000000\n",
       "439     1.000000\n",
       "1546    1.000000\n",
       "1374    1.000000\n",
       "1548    1.000000\n",
       "1373    1.000000\n",
       "437     1.000000\n",
       "1601    1.000000\n",
       "1557    1.000000\n",
       "1559    1.000000\n",
       "1561    1.000000\n",
       "1364    1.000000\n",
       "Name: rating, Length: 1682, dtype: float64"
      ]
     },
     "execution_count": 14,
     "metadata": {},
     "output_type": "execute_result"
    }
   ],
   "source": [
    "ratings_movie_grouped = ratings.groupby(\"movieID\")[\"rating\"]\n",
    "\n",
    "movie_mean_ratings = ratings_movie_grouped.mean().sort_values(ascending=False)\n",
    "\n",
    "movie_mean_ratings"
   ]
  },
  {
   "cell_type": "markdown",
   "metadata": {},
   "source": [
    "## 0.7 Define RMSE and MAE\n",
    "\n",
    "### RMSE\n",
    "\n",
    "Define a function `evalrmse(pred, ground)`\n",
    " which, given predicted ratings **pred** and ground-truth ratings **ground** returns the root-mean-square error of the prediction\n",
    "\n",
    "Try to define this function in plain python, then using numpy, then using sklearn (which must be installed if necessary)"
   ]
  },
  {
   "cell_type": "markdown",
   "metadata": {},
   "source": [
    "### [RMSE] Classic implementation"
   ]
  },
  {
   "cell_type": "code",
   "execution_count": 15,
   "metadata": {
    "collapsed": true
   },
   "outputs": [],
   "source": [
    "def evalrmse_classic(pred, grnd):\n",
    "    \"\"\"\n",
    "    evalrmse takes a prediction list and a ground-truth list,\n",
    "    computes and returns the root-mean square error of the prediction.\n",
    "    \n",
    "    Args:\n",
    "        pred (list): List containing the predictions.\n",
    "        grnd (list): List containing the ground-truth results.\n",
    "\n",
    "    Returns:\n",
    "        rmse (list): The root-mean square error of the prediction.\n",
    "    \"\"\"\n",
    "    square_sum = 0\n",
    "    n = len(grnd)\n",
    "    \n",
    "    for i in range(n):\n",
    "        square_sum += (pred[i] - grnd[i]) ** 2\n",
    "    \n",
    "    return np.sqrt(square_sum / n)"
   ]
  },
  {
   "cell_type": "code",
   "execution_count": 16,
   "metadata": {},
   "outputs": [
    {
     "data": {
      "text/plain": [
       "0.5"
      ]
     },
     "execution_count": 16,
     "metadata": {},
     "output_type": "execute_result"
    }
   ],
   "source": [
    "A = [1, 2, 3, 4] # Test list A.\n",
    "B = [1, 2, 3, 3] # Test list B.\n",
    "\n",
    "evalrmse_classic(A, B)"
   ]
  },
  {
   "cell_type": "markdown",
   "metadata": {},
   "source": [
    "### [RMSE] Numpy implementation"
   ]
  },
  {
   "cell_type": "code",
   "execution_count": 18,
   "metadata": {
    "collapsed": true
   },
   "outputs": [],
   "source": [
    "# Same implementation but using numpy and as a lambda function, because \"fun\".\n",
    "evalrmse_np = lambda pred, grnd: np.sqrt(((pred - grnd) ** 2).mean())"
   ]
  },
  {
   "cell_type": "code",
   "execution_count": 19,
   "metadata": {},
   "outputs": [
    {
     "data": {
      "text/plain": [
       "0.5"
      ]
     },
     "execution_count": 19,
     "metadata": {},
     "output_type": "execute_result"
    }
   ],
   "source": [
    "A = np.array([1, 2, 3, 4]) # Test array A.\n",
    "B = np.array([1, 2, 3, 3]) # Test array B.\n",
    "\n",
    "evalrmse_np(A, B)"
   ]
  },
  {
   "cell_type": "markdown",
   "metadata": {},
   "source": [
    "### [RMSE] Sklearn implementation"
   ]
  },
  {
   "cell_type": "code",
   "execution_count": 22,
   "metadata": {
    "collapsed": true
   },
   "outputs": [],
   "source": [
    "from sklearn.metrics import mean_squared_error\n",
    "\n",
    "# Same implementation but using sklearn.\n",
    "evalrmse_sklearn = lambda pred, grnd : np.sqrt(mean_squared_error(grnd, pred))"
   ]
  },
  {
   "cell_type": "code",
   "execution_count": 23,
   "metadata": {},
   "outputs": [
    {
     "data": {
      "text/plain": [
       "0.5"
      ]
     },
     "execution_count": 23,
     "metadata": {},
     "output_type": "execute_result"
    }
   ],
   "source": [
    "evalrmse_sklearn(A, B)"
   ]
  },
  {
   "cell_type": "markdown",
   "metadata": {
    "collapsed": true
   },
   "source": [
    "### MAE\n",
    "\n",
    "Same question for the mean absolute error."
   ]
  },
  {
   "cell_type": "markdown",
   "metadata": {},
   "source": [
    "### [MAE] Classic implementation"
   ]
  },
  {
   "cell_type": "code",
   "execution_count": 24,
   "metadata": {
    "collapsed": true
   },
   "outputs": [],
   "source": [
    "def evalmae_classic(pred, grnd):\n",
    "    \"\"\"\n",
    "    evalmae takes a prediction list and a ground-truth list,\n",
    "    computes and returns the mean absolute error of the prediction.\n",
    "    \n",
    "    Args:\n",
    "        pred (list): List containing the predictions.\n",
    "        grnd (list): List containing the ground-truth results.\n",
    "\n",
    "    Returns:\n",
    "        mae (list): The mean absolute error of the prediction.\n",
    "    \"\"\"\n",
    "    square_sum = 0\n",
    "    n = len(grnd)\n",
    "    \n",
    "    for i in range(n):\n",
    "        square_sum += abs(pred[i] - grnd[i])\n",
    "    \n",
    "    return square_sum / n"
   ]
  },
  {
   "cell_type": "code",
   "execution_count": 25,
   "metadata": {},
   "outputs": [
    {
     "data": {
      "text/plain": [
       "0.25"
      ]
     },
     "execution_count": 25,
     "metadata": {},
     "output_type": "execute_result"
    }
   ],
   "source": [
    "A = [1, 2, 3, 4]\n",
    "B = [1, 2, 3, 3]\n",
    "\n",
    "evalmae_classic(A, B)"
   ]
  },
  {
   "cell_type": "markdown",
   "metadata": {},
   "source": [
    "### [MAE] Numpy implementation"
   ]
  },
  {
   "cell_type": "code",
   "execution_count": 26,
   "metadata": {
    "collapsed": true
   },
   "outputs": [],
   "source": [
    "evalmae_np = lambda pred, grnd: abs((pred - grnd)).mean()"
   ]
  },
  {
   "cell_type": "code",
   "execution_count": 27,
   "metadata": {},
   "outputs": [
    {
     "data": {
      "text/plain": [
       "0.25"
      ]
     },
     "execution_count": 27,
     "metadata": {},
     "output_type": "execute_result"
    }
   ],
   "source": [
    "A = np.array([1, 2, 3, 4])\n",
    "B = np.array([1, 2, 3, 3])\n",
    "\n",
    "evalmae_np(A, B)"
   ]
  },
  {
   "cell_type": "markdown",
   "metadata": {},
   "source": [
    "### [MAE] Sklearn implementation"
   ]
  },
  {
   "cell_type": "code",
   "execution_count": 28,
   "metadata": {
    "collapsed": true
   },
   "outputs": [],
   "source": [
    "from sklearn.metrics import mean_absolute_error\n",
    "\n",
    "evalmae_sklearn = lambda pred, grnd : mean_absolute_error(grnd, pred)"
   ]
  },
  {
   "cell_type": "code",
   "execution_count": 29,
   "metadata": {},
   "outputs": [
    {
     "data": {
      "text/plain": [
       "0.25"
      ]
     },
     "execution_count": 29,
     "metadata": {},
     "output_type": "execute_result"
    }
   ],
   "source": [
    "evalmae_sklearn(A, B)"
   ]
  },
  {
   "cell_type": "markdown",
   "metadata": {},
   "source": [
    "## 0.8 Compute baseline predictions for the validation set and evaluate error\n",
    "\n",
    "For each baseline, compute an array pred where pred[i] is the estimated rating for line i in the\n",
    "validation set np_val, then estimate RMSE and MAE."
   ]
  },
  {
   "cell_type": "markdown",
   "metadata": {},
   "source": [
    "### Using the global average: the estimated rating for any user and movie is the global average"
   ]
  },
  {
   "cell_type": "code",
   "execution_count": 30,
   "metadata": {
    "scrolled": true
   },
   "outputs": [
    {
     "data": {
      "text/plain": [
       "userID\n",
       "1      3.627907\n",
       "2      3.615385\n",
       "3      2.727273\n",
       "4      4.523810\n",
       "5      2.829932\n",
       "6      3.603550\n",
       "7      3.959375\n",
       "8      3.911111\n",
       "9      4.222222\n",
       "10     4.189542\n",
       "11     3.429577\n",
       "12     4.410256\n",
       "13     3.095427\n",
       "14     4.050633\n",
       "15     2.962025\n",
       "16     4.247863\n",
       "17     3.153846\n",
       "18     3.879464\n",
       "19     3.555556\n",
       "20     3.075000\n",
       "21     2.628571\n",
       "22     3.401961\n",
       "23     3.635593\n",
       "24     4.357143\n",
       "25     4.015625\n",
       "26     2.900000\n",
       "27     3.318182\n",
       "28     3.761194\n",
       "29     3.714286\n",
       "30     3.612903\n",
       "         ...   \n",
       "914    3.086957\n",
       "915    2.904762\n",
       "916    3.384000\n",
       "917    3.586207\n",
       "918    3.269231\n",
       "919    3.490909\n",
       "920    3.090909\n",
       "921    3.279070\n",
       "922    3.432990\n",
       "923    4.135593\n",
       "924    3.816901\n",
       "925    3.206897\n",
       "926    3.266667\n",
       "927    3.618557\n",
       "928    4.681818\n",
       "929    3.707317\n",
       "930    2.982143\n",
       "931    3.836735\n",
       "932    3.962567\n",
       "933    2.583333\n",
       "934    3.715328\n",
       "935    3.896552\n",
       "936    3.726415\n",
       "937    3.233333\n",
       "938    3.282609\n",
       "939    4.195122\n",
       "940    3.488636\n",
       "941    4.111111\n",
       "942    4.265625\n",
       "943    3.325926\n",
       "Name: rating, Length: 943, dtype: float64"
      ]
     },
     "execution_count": 30,
     "metadata": {},
     "output_type": "execute_result"
    }
   ],
   "source": [
    "\"\"\"\n",
    "For reference:\n",
    "    trn = ratings[msk]  # Training set approx. 80% of the input rows.\n",
    "    val = ratings[~msk] # Validation set approx. 20% of the input rows (remaining).\n",
    "\"\"\"\n",
    "\n",
    "# Let's aggregate by userID doing an average.\n",
    "trn_user_grouped_ratings = trn.groupby(\"userID\")[\"rating\"].mean()\n",
    "\n",
    "trn_user_grouped_ratings # This gives for each user in the training set their average rating."
   ]
  },
  {
   "cell_type": "code",
   "execution_count": 33,
   "metadata": {},
   "outputs": [
    {
     "data": {
      "text/plain": [
       "3.5272802321508983"
      ]
     },
     "execution_count": 33,
     "metadata": {},
     "output_type": "execute_result"
    }
   ],
   "source": [
    "# Now, let's compute the global average\n",
    "trn_global_avg = trn[\"rating\"].mean()\n",
    "\n",
    "trn_global_avg"
   ]
  },
  {
   "cell_type": "code",
   "execution_count": 37,
   "metadata": {
    "scrolled": true
   },
   "outputs": [
    {
     "data": {
      "text/html": [
       "<div>\n",
       "<style>\n",
       "    .dataframe thead tr:only-child th {\n",
       "        text-align: right;\n",
       "    }\n",
       "\n",
       "    .dataframe thead th {\n",
       "        text-align: left;\n",
       "    }\n",
       "\n",
       "    .dataframe tbody tr th {\n",
       "        vertical-align: top;\n",
       "    }\n",
       "</style>\n",
       "<table border=\"1\" class=\"dataframe\">\n",
       "  <thead>\n",
       "    <tr style=\"text-align: right;\">\n",
       "      <th></th>\n",
       "      <th>userID</th>\n",
       "      <th>movieID</th>\n",
       "      <th>rating</th>\n",
       "      <th>pred_glob_avg</th>\n",
       "    </tr>\n",
       "  </thead>\n",
       "  <tbody>\n",
       "    <tr>\n",
       "      <th>8</th>\n",
       "      <td>305</td>\n",
       "      <td>451</td>\n",
       "      <td>3</td>\n",
       "      <td>3.52728</td>\n",
       "    </tr>\n",
       "    <tr>\n",
       "      <th>13</th>\n",
       "      <td>210</td>\n",
       "      <td>40</td>\n",
       "      <td>3</td>\n",
       "      <td>3.52728</td>\n",
       "    </tr>\n",
       "    <tr>\n",
       "      <th>15</th>\n",
       "      <td>303</td>\n",
       "      <td>785</td>\n",
       "      <td>3</td>\n",
       "      <td>3.52728</td>\n",
       "    </tr>\n",
       "    <tr>\n",
       "      <th>18</th>\n",
       "      <td>291</td>\n",
       "      <td>1042</td>\n",
       "      <td>4</td>\n",
       "      <td>3.52728</td>\n",
       "    </tr>\n",
       "    <tr>\n",
       "      <th>26</th>\n",
       "      <td>38</td>\n",
       "      <td>95</td>\n",
       "      <td>5</td>\n",
       "      <td>3.52728</td>\n",
       "    </tr>\n",
       "    <tr>\n",
       "      <th>27</th>\n",
       "      <td>102</td>\n",
       "      <td>768</td>\n",
       "      <td>2</td>\n",
       "      <td>3.52728</td>\n",
       "    </tr>\n",
       "    <tr>\n",
       "      <th>38</th>\n",
       "      <td>276</td>\n",
       "      <td>796</td>\n",
       "      <td>1</td>\n",
       "      <td>3.52728</td>\n",
       "    </tr>\n",
       "    <tr>\n",
       "      <th>47</th>\n",
       "      <td>249</td>\n",
       "      <td>241</td>\n",
       "      <td>5</td>\n",
       "      <td>3.52728</td>\n",
       "    </tr>\n",
       "    <tr>\n",
       "      <th>51</th>\n",
       "      <td>81</td>\n",
       "      <td>432</td>\n",
       "      <td>2</td>\n",
       "      <td>3.52728</td>\n",
       "    </tr>\n",
       "    <tr>\n",
       "      <th>52</th>\n",
       "      <td>260</td>\n",
       "      <td>322</td>\n",
       "      <td>4</td>\n",
       "      <td>3.52728</td>\n",
       "    </tr>\n",
       "    <tr>\n",
       "      <th>59</th>\n",
       "      <td>292</td>\n",
       "      <td>515</td>\n",
       "      <td>4</td>\n",
       "      <td>3.52728</td>\n",
       "    </tr>\n",
       "    <tr>\n",
       "      <th>68</th>\n",
       "      <td>57</td>\n",
       "      <td>304</td>\n",
       "      <td>5</td>\n",
       "      <td>3.52728</td>\n",
       "    </tr>\n",
       "    <tr>\n",
       "      <th>74</th>\n",
       "      <td>194</td>\n",
       "      <td>165</td>\n",
       "      <td>4</td>\n",
       "      <td>3.52728</td>\n",
       "    </tr>\n",
       "    <tr>\n",
       "      <th>80</th>\n",
       "      <td>225</td>\n",
       "      <td>237</td>\n",
       "      <td>5</td>\n",
       "      <td>3.52728</td>\n",
       "    </tr>\n",
       "    <tr>\n",
       "      <th>83</th>\n",
       "      <td>276</td>\n",
       "      <td>54</td>\n",
       "      <td>3</td>\n",
       "      <td>3.52728</td>\n",
       "    </tr>\n",
       "    <tr>\n",
       "      <th>87</th>\n",
       "      <td>42</td>\n",
       "      <td>403</td>\n",
       "      <td>3</td>\n",
       "      <td>3.52728</td>\n",
       "    </tr>\n",
       "    <tr>\n",
       "      <th>90</th>\n",
       "      <td>8</td>\n",
       "      <td>338</td>\n",
       "      <td>4</td>\n",
       "      <td>3.52728</td>\n",
       "    </tr>\n",
       "    <tr>\n",
       "      <th>92</th>\n",
       "      <td>87</td>\n",
       "      <td>1016</td>\n",
       "      <td>4</td>\n",
       "      <td>3.52728</td>\n",
       "    </tr>\n",
       "    <tr>\n",
       "      <th>112</th>\n",
       "      <td>168</td>\n",
       "      <td>151</td>\n",
       "      <td>5</td>\n",
       "      <td>3.52728</td>\n",
       "    </tr>\n",
       "    <tr>\n",
       "      <th>117</th>\n",
       "      <td>62</td>\n",
       "      <td>21</td>\n",
       "      <td>3</td>\n",
       "      <td>3.52728</td>\n",
       "    </tr>\n",
       "    <tr>\n",
       "      <th>131</th>\n",
       "      <td>82</td>\n",
       "      <td>135</td>\n",
       "      <td>3</td>\n",
       "      <td>3.52728</td>\n",
       "    </tr>\n",
       "    <tr>\n",
       "      <th>133</th>\n",
       "      <td>293</td>\n",
       "      <td>471</td>\n",
       "      <td>3</td>\n",
       "      <td>3.52728</td>\n",
       "    </tr>\n",
       "    <tr>\n",
       "      <th>134</th>\n",
       "      <td>216</td>\n",
       "      <td>658</td>\n",
       "      <td>3</td>\n",
       "      <td>3.52728</td>\n",
       "    </tr>\n",
       "    <tr>\n",
       "      <th>141</th>\n",
       "      <td>87</td>\n",
       "      <td>274</td>\n",
       "      <td>4</td>\n",
       "      <td>3.52728</td>\n",
       "    </tr>\n",
       "    <tr>\n",
       "      <th>142</th>\n",
       "      <td>194</td>\n",
       "      <td>1211</td>\n",
       "      <td>2</td>\n",
       "      <td>3.52728</td>\n",
       "    </tr>\n",
       "    <tr>\n",
       "      <th>143</th>\n",
       "      <td>82</td>\n",
       "      <td>1134</td>\n",
       "      <td>2</td>\n",
       "      <td>3.52728</td>\n",
       "    </tr>\n",
       "    <tr>\n",
       "      <th>147</th>\n",
       "      <td>305</td>\n",
       "      <td>427</td>\n",
       "      <td>5</td>\n",
       "      <td>3.52728</td>\n",
       "    </tr>\n",
       "    <tr>\n",
       "      <th>152</th>\n",
       "      <td>84</td>\n",
       "      <td>405</td>\n",
       "      <td>3</td>\n",
       "      <td>3.52728</td>\n",
       "    </tr>\n",
       "    <tr>\n",
       "      <th>154</th>\n",
       "      <td>299</td>\n",
       "      <td>111</td>\n",
       "      <td>3</td>\n",
       "      <td>3.52728</td>\n",
       "    </tr>\n",
       "    <tr>\n",
       "      <th>159</th>\n",
       "      <td>259</td>\n",
       "      <td>117</td>\n",
       "      <td>4</td>\n",
       "      <td>3.52728</td>\n",
       "    </tr>\n",
       "    <tr>\n",
       "      <th>...</th>\n",
       "      <td>...</td>\n",
       "      <td>...</td>\n",
       "      <td>...</td>\n",
       "      <td>...</td>\n",
       "    </tr>\n",
       "    <tr>\n",
       "      <th>99829</th>\n",
       "      <td>532</td>\n",
       "      <td>990</td>\n",
       "      <td>3</td>\n",
       "      <td>3.52728</td>\n",
       "    </tr>\n",
       "    <tr>\n",
       "      <th>99832</th>\n",
       "      <td>943</td>\n",
       "      <td>739</td>\n",
       "      <td>4</td>\n",
       "      <td>3.52728</td>\n",
       "    </tr>\n",
       "    <tr>\n",
       "      <th>99839</th>\n",
       "      <td>303</td>\n",
       "      <td>363</td>\n",
       "      <td>1</td>\n",
       "      <td>3.52728</td>\n",
       "    </tr>\n",
       "    <tr>\n",
       "      <th>99848</th>\n",
       "      <td>5</td>\n",
       "      <td>174</td>\n",
       "      <td>5</td>\n",
       "      <td>3.52728</td>\n",
       "    </tr>\n",
       "    <tr>\n",
       "      <th>99851</th>\n",
       "      <td>23</td>\n",
       "      <td>227</td>\n",
       "      <td>3</td>\n",
       "      <td>3.52728</td>\n",
       "    </tr>\n",
       "    <tr>\n",
       "      <th>99856</th>\n",
       "      <td>913</td>\n",
       "      <td>318</td>\n",
       "      <td>4</td>\n",
       "      <td>3.52728</td>\n",
       "    </tr>\n",
       "    <tr>\n",
       "      <th>99859</th>\n",
       "      <td>935</td>\n",
       "      <td>685</td>\n",
       "      <td>4</td>\n",
       "      <td>3.52728</td>\n",
       "    </tr>\n",
       "    <tr>\n",
       "      <th>99866</th>\n",
       "      <td>826</td>\n",
       "      <td>748</td>\n",
       "      <td>4</td>\n",
       "      <td>3.52728</td>\n",
       "    </tr>\n",
       "    <tr>\n",
       "      <th>99867</th>\n",
       "      <td>773</td>\n",
       "      <td>232</td>\n",
       "      <td>3</td>\n",
       "      <td>3.52728</td>\n",
       "    </tr>\n",
       "    <tr>\n",
       "      <th>99868</th>\n",
       "      <td>749</td>\n",
       "      <td>823</td>\n",
       "      <td>3</td>\n",
       "      <td>3.52728</td>\n",
       "    </tr>\n",
       "    <tr>\n",
       "      <th>99869</th>\n",
       "      <td>806</td>\n",
       "      <td>90</td>\n",
       "      <td>4</td>\n",
       "      <td>3.52728</td>\n",
       "    </tr>\n",
       "    <tr>\n",
       "      <th>99887</th>\n",
       "      <td>393</td>\n",
       "      <td>613</td>\n",
       "      <td>4</td>\n",
       "      <td>3.52728</td>\n",
       "    </tr>\n",
       "    <tr>\n",
       "      <th>99892</th>\n",
       "      <td>527</td>\n",
       "      <td>659</td>\n",
       "      <td>4</td>\n",
       "      <td>3.52728</td>\n",
       "    </tr>\n",
       "    <tr>\n",
       "      <th>99896</th>\n",
       "      <td>867</td>\n",
       "      <td>748</td>\n",
       "      <td>4</td>\n",
       "      <td>3.52728</td>\n",
       "    </tr>\n",
       "    <tr>\n",
       "      <th>99903</th>\n",
       "      <td>851</td>\n",
       "      <td>1013</td>\n",
       "      <td>2</td>\n",
       "      <td>3.52728</td>\n",
       "    </tr>\n",
       "    <tr>\n",
       "      <th>99907</th>\n",
       "      <td>935</td>\n",
       "      <td>117</td>\n",
       "      <td>4</td>\n",
       "      <td>3.52728</td>\n",
       "    </tr>\n",
       "    <tr>\n",
       "      <th>99910</th>\n",
       "      <td>896</td>\n",
       "      <td>511</td>\n",
       "      <td>5</td>\n",
       "      <td>3.52728</td>\n",
       "    </tr>\n",
       "    <tr>\n",
       "      <th>99912</th>\n",
       "      <td>835</td>\n",
       "      <td>174</td>\n",
       "      <td>5</td>\n",
       "      <td>3.52728</td>\n",
       "    </tr>\n",
       "    <tr>\n",
       "      <th>99918</th>\n",
       "      <td>798</td>\n",
       "      <td>659</td>\n",
       "      <td>4</td>\n",
       "      <td>3.52728</td>\n",
       "    </tr>\n",
       "    <tr>\n",
       "      <th>99931</th>\n",
       "      <td>379</td>\n",
       "      <td>621</td>\n",
       "      <td>4</td>\n",
       "      <td>3.52728</td>\n",
       "    </tr>\n",
       "    <tr>\n",
       "      <th>99932</th>\n",
       "      <td>130</td>\n",
       "      <td>824</td>\n",
       "      <td>3</td>\n",
       "      <td>3.52728</td>\n",
       "    </tr>\n",
       "    <tr>\n",
       "      <th>99941</th>\n",
       "      <td>593</td>\n",
       "      <td>1</td>\n",
       "      <td>3</td>\n",
       "      <td>3.52728</td>\n",
       "    </tr>\n",
       "    <tr>\n",
       "      <th>99948</th>\n",
       "      <td>780</td>\n",
       "      <td>50</td>\n",
       "      <td>5</td>\n",
       "      <td>3.52728</td>\n",
       "    </tr>\n",
       "    <tr>\n",
       "      <th>99958</th>\n",
       "      <td>394</td>\n",
       "      <td>380</td>\n",
       "      <td>4</td>\n",
       "      <td>3.52728</td>\n",
       "    </tr>\n",
       "    <tr>\n",
       "      <th>99969</th>\n",
       "      <td>936</td>\n",
       "      <td>766</td>\n",
       "      <td>3</td>\n",
       "      <td>3.52728</td>\n",
       "    </tr>\n",
       "    <tr>\n",
       "      <th>99976</th>\n",
       "      <td>618</td>\n",
       "      <td>628</td>\n",
       "      <td>2</td>\n",
       "      <td>3.52728</td>\n",
       "    </tr>\n",
       "    <tr>\n",
       "      <th>99978</th>\n",
       "      <td>113</td>\n",
       "      <td>975</td>\n",
       "      <td>5</td>\n",
       "      <td>3.52728</td>\n",
       "    </tr>\n",
       "    <tr>\n",
       "      <th>99980</th>\n",
       "      <td>864</td>\n",
       "      <td>685</td>\n",
       "      <td>4</td>\n",
       "      <td>3.52728</td>\n",
       "    </tr>\n",
       "    <tr>\n",
       "      <th>99981</th>\n",
       "      <td>750</td>\n",
       "      <td>323</td>\n",
       "      <td>3</td>\n",
       "      <td>3.52728</td>\n",
       "    </tr>\n",
       "    <tr>\n",
       "      <th>99985</th>\n",
       "      <td>617</td>\n",
       "      <td>582</td>\n",
       "      <td>4</td>\n",
       "      <td>3.52728</td>\n",
       "    </tr>\n",
       "  </tbody>\n",
       "</table>\n",
       "<p>20052 rows × 4 columns</p>\n",
       "</div>"
      ],
      "text/plain": [
       "       userID  movieID  rating  pred_glob_avg\n",
       "8         305      451       3        3.52728\n",
       "13        210       40       3        3.52728\n",
       "15        303      785       3        3.52728\n",
       "18        291     1042       4        3.52728\n",
       "26         38       95       5        3.52728\n",
       "27        102      768       2        3.52728\n",
       "38        276      796       1        3.52728\n",
       "47        249      241       5        3.52728\n",
       "51         81      432       2        3.52728\n",
       "52        260      322       4        3.52728\n",
       "59        292      515       4        3.52728\n",
       "68         57      304       5        3.52728\n",
       "74        194      165       4        3.52728\n",
       "80        225      237       5        3.52728\n",
       "83        276       54       3        3.52728\n",
       "87         42      403       3        3.52728\n",
       "90          8      338       4        3.52728\n",
       "92         87     1016       4        3.52728\n",
       "112       168      151       5        3.52728\n",
       "117        62       21       3        3.52728\n",
       "131        82      135       3        3.52728\n",
       "133       293      471       3        3.52728\n",
       "134       216      658       3        3.52728\n",
       "141        87      274       4        3.52728\n",
       "142       194     1211       2        3.52728\n",
       "143        82     1134       2        3.52728\n",
       "147       305      427       5        3.52728\n",
       "152        84      405       3        3.52728\n",
       "154       299      111       3        3.52728\n",
       "159       259      117       4        3.52728\n",
       "...       ...      ...     ...            ...\n",
       "99829     532      990       3        3.52728\n",
       "99832     943      739       4        3.52728\n",
       "99839     303      363       1        3.52728\n",
       "99848       5      174       5        3.52728\n",
       "99851      23      227       3        3.52728\n",
       "99856     913      318       4        3.52728\n",
       "99859     935      685       4        3.52728\n",
       "99866     826      748       4        3.52728\n",
       "99867     773      232       3        3.52728\n",
       "99868     749      823       3        3.52728\n",
       "99869     806       90       4        3.52728\n",
       "99887     393      613       4        3.52728\n",
       "99892     527      659       4        3.52728\n",
       "99896     867      748       4        3.52728\n",
       "99903     851     1013       2        3.52728\n",
       "99907     935      117       4        3.52728\n",
       "99910     896      511       5        3.52728\n",
       "99912     835      174       5        3.52728\n",
       "99918     798      659       4        3.52728\n",
       "99931     379      621       4        3.52728\n",
       "99932     130      824       3        3.52728\n",
       "99941     593        1       3        3.52728\n",
       "99948     780       50       5        3.52728\n",
       "99958     394      380       4        3.52728\n",
       "99969     936      766       3        3.52728\n",
       "99976     618      628       2        3.52728\n",
       "99978     113      975       5        3.52728\n",
       "99980     864      685       4        3.52728\n",
       "99981     750      323       3        3.52728\n",
       "99985     617      582       4        3.52728\n",
       "\n",
       "[20052 rows x 4 columns]"
      ]
     },
     "execution_count": 37,
     "metadata": {},
     "output_type": "execute_result"
    }
   ],
   "source": [
    "# Create a new dataframe that will contain the predictions based on the different methods.\n",
    "predicted_movie_ratings = val.iloc[:, 0:3]\n",
    "\n",
    "# List of the size of the validation set containing the global average as values.\n",
    "trn_global_avg_list = len(predicted_movie_ratings) * [trn_global_avg]\n",
    "\n",
    "# Same but as a numpy array.\n",
    "trn_global_avg_array = np.array(trn_global_avg_list)\n",
    "\n",
    "predicted_movie_ratings[\"pred_glob_avg\"] = trn_global_avg_array\n",
    "predicted_movie_ratings"
   ]
  },
  {
   "cell_type": "code",
   "execution_count": 40,
   "metadata": {},
   "outputs": [
    {
     "data": {
      "text/plain": [
       "{'mae': {'classic': 0.94299916779140713,\n",
       "  'np': 0.94299916779140025,\n",
       "  'sklearn': 0.94299916779140025},\n",
       " 'rmse': {'classic': 1.1235736740615916,\n",
       "  'np': 1.1235736740615263,\n",
       "  'sklearn': 1.1235736740615263}}"
      ]
     },
     "execution_count": 40,
     "metadata": {},
     "output_type": "execute_result"
    }
   ],
   "source": [
    "predicted_movie_ratings_list = list(predicted_movie_ratings[\"pred_glob_avg\"].values)\n",
    "actual_movie_ratings_list = list(predicted_movie_ratings[\"rating\"].values)\n",
    "\n",
    "predicted_movie_ratings_array = predicted_movie_ratings[\"pred_glob_avg\"].values\n",
    "actual_movie_ratings_array = predicted_movie_ratings[\"rating\"].values\n",
    "\n",
    "{\"rmse\":{\n",
    "    \"classic\": evalrmse_classic(predicted_movie_ratings_list,\n",
    "                                actual_movie_ratings_list),\n",
    "    \"np\": evalrmse_np(predicted_movie_ratings_array,\n",
    "                      actual_movie_ratings_array),\n",
    "    \"sklearn\": evalrmse_sklearn(predicted_movie_ratings_array,\n",
    "                                actual_movie_ratings_array)},\n",
    " \"mae\": {\n",
    "     \"classic\": evalmae_classic(predicted_movie_ratings_list,\n",
    "                                actual_movie_ratings_list),\n",
    "     \"np\": evalmae_np(predicted_movie_ratings_array,\n",
    "                      actual_movie_ratings_array),\n",
    "     \"sklearn\": evalmae_np(predicted_movie_ratings_array,\n",
    "                           actual_movie_ratings_array)}\n",
    "}"
   ]
  },
  {
   "cell_type": "code",
   "execution_count": 43,
   "metadata": {},
   "outputs": [],
   "source": [
    "# Aggregate by movieID doing the average.\n",
    "trn_movie_grouped_ratings = val.groupby(\"movieID\")[\"rating\"].mean()\n",
    "\n",
    "# Function that returns the movie's average.\n",
    "def movie_avg_rating(movieID):\n",
    "    if movieID in trn_movie_grouped_ratings.index:\n",
    "        return trn_movie_grouped_ratings[movieID]\n",
    "    \n",
    "    return 0\n",
    "\n",
    "predicted_movie_ratings[\"pred_movie_avg\"] = predicted_movie_ratings[\"movieID\"].apply(movie_avg_rating)\n",
    "\n",
    "predicted_movie_ratings_list = list(predicted_movie_ratings[\"pred_movie_avg\"].values)\n",
    "actual_movie_ratings_list = list(predicted_movie_ratings[\"rating\"].values)\n",
    "\n",
    "predicted_movie_ratings_array = predicted_movie_ratings[\"pred_movie_avg\"].values\n",
    "actual_movie_ratings_array = predicted_movie_ratings[\"rating\"].values"
   ]
  },
  {
   "cell_type": "code",
   "execution_count": 44,
   "metadata": {},
   "outputs": [
    {
     "data": {
      "text/plain": [
       "{'mae': {'classic': 0.77204943918524005,\n",
       "  'np': 0.77204943918523661,\n",
       "  'sklearn': 0.77204943918523661},\n",
       " 'rmse': {'classic': 0.97277231620030202,\n",
       "  'np': 0.97277231620030324,\n",
       "  'sklearn': 0.97277231620030324}}"
      ]
     },
     "execution_count": 44,
     "metadata": {},
     "output_type": "execute_result"
    }
   ],
   "source": [
    "{\"rmse\":{\n",
    "    \"classic\": evalrmse_classic(predicted_movie_ratings_list,\n",
    "                                actual_movie_ratings_list),\n",
    "    \"np\": evalrmse_np(predicted_movie_ratings_array,\n",
    "                      actual_movie_ratings_array),\n",
    "    \"sklearn\": evalrmse_sklearn(predicted_movie_ratings_array,\n",
    "                                actual_movie_ratings_array)},\n",
    " \"mae\": {\n",
    "     \"classic\": evalmae_classic(predicted_movie_ratings_list,\n",
    "                                actual_movie_ratings_list),\n",
    "     \"np\": evalmae_np(predicted_movie_ratings_array,\n",
    "                      actual_movie_ratings_array),\n",
    "     \"sklearn\": evalmae_np(predicted_movie_ratings_array,\n",
    "                           actual_movie_ratings_array)}\n",
    "}"
   ]
  },
  {
   "cell_type": "markdown",
   "metadata": {},
   "source": [
    "### Using user and movie bias: the predicted rating for user u and movie m is µ + bu + bm, where µ is global_average, bu is the user bias user_average[u] - global_average and bm is the movie bias movie_average - global average"
   ]
  },
  {
   "cell_type": "code",
   "execution_count": 45,
   "metadata": {
    "collapsed": true
   },
   "outputs": [],
   "source": [
    "\"\"\"\n",
    "Global average: trn_global_avg\n",
    "User average: val_user_grouped_ratings[userID]\n",
    "Movie average: val_movie_grouped_ratings[userID]\n",
    "\"\"\"\n",
    "\n",
    "def pred_rating_with_bias(row):\n",
    "    movieID = row[\"movieID\"]\n",
    "    userID = row[\"userID\"]\n",
    "    \n",
    "    rating = trn_global_avg\n",
    "    \n",
    "    if movieID in trn_movie_grouped_ratings.index:\n",
    "        rating += trn_movie_grouped_ratings[movieID] - trn_global_avg\n",
    "    \n",
    "    if userID in trn_user_grouped_ratings.index:\n",
    "        rating += trn_user_grouped_ratings[userID] - trn_global_avg\n",
    "    \n",
    "    return rating\n",
    "\n",
    "predicted_movie_ratings[\"pred_bias\"] = predicted_movie_ratings.apply(pred_rating_with_bias, axis=1)\n",
    "\n",
    "predicted_movie_ratings_list = list(predicted_movie_ratings[\"pred_bias\"].values)\n",
    "actual_movie_ratings_list = list(predicted_movie_ratings[\"rating\"].values)\n",
    "\n",
    "predicted_movie_ratings_array = predicted_movie_ratings[\"pred_bias\"].values\n",
    "actual_movie_ratings_array = predicted_movie_ratings[\"rating\"].values"
   ]
  },
  {
   "cell_type": "code",
   "execution_count": 46,
   "metadata": {},
   "outputs": [
    {
     "data": {
      "text/plain": [
       "{'mae': {'classic': 0.73188893455837645,\n",
       "  'np': 0.73188893455837334,\n",
       "  'sklearn': 0.73188893455837334},\n",
       " 'rmse': {'classic': 0.9340641212984907,\n",
       "  'np': 0.93406412129849037,\n",
       "  'sklearn': 0.93406412129849037}}"
      ]
     },
     "execution_count": 46,
     "metadata": {},
     "output_type": "execute_result"
    }
   ],
   "source": [
    "{\"rmse\":{\n",
    "    \"classic\": evalrmse_classic(predicted_movie_ratings_list,\n",
    "                                actual_movie_ratings_list),\n",
    "    \"np\": evalrmse_np(predicted_movie_ratings_array,\n",
    "                      actual_movie_ratings_array),\n",
    "    \"sklearn\": evalrmse_sklearn(predicted_movie_ratings_array,\n",
    "                                actual_movie_ratings_array)},\n",
    " \"mae\": {\n",
    "     \"classic\": evalmae_classic(predicted_movie_ratings_list,\n",
    "                                actual_movie_ratings_list),\n",
    "     \"np\": evalmae_np(predicted_movie_ratings_array,\n",
    "                      actual_movie_ratings_array),\n",
    "     \"sklearn\": evalmae_np(predicted_movie_ratings_array,\n",
    "                           actual_movie_ratings_array)}\n",
    "}"
   ]
  },
  {
   "cell_type": "code",
   "execution_count": null,
   "metadata": {
    "collapsed": true
   },
   "outputs": [],
   "source": []
  }
 ],
 "metadata": {
  "kernelspec": {
   "display_name": "Python 3",
   "language": "python",
   "name": "python3"
  },
  "language_info": {
   "codemirror_mode": {
    "name": "ipython",
    "version": 3
   },
   "file_extension": ".py",
   "mimetype": "text/x-python",
   "name": "python",
   "nbconvert_exporter": "python",
   "pygments_lexer": "ipython3",
   "version": "3.6.2"
  }
 },
 "nbformat": 4,
 "nbformat_minor": 2
}
